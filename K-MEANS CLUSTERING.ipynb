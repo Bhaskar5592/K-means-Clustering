{
 "cells": [
  {
   "cell_type": "code",
   "execution_count": 2,
   "metadata": {},
   "outputs": [],
   "source": [
    "import pandas as pd\n",
    "import numpy as np\n",
    "import matplotlib.pyplot as plt\n",
    "from sklearn.cluster import KMeans"
   ]
  },
  {
   "cell_type": "code",
   "execution_count": 7,
   "metadata": {},
   "outputs": [
    {
     "data": {
      "text/plain": [
       "array([[0.55565589, 0.45559934],\n",
       "       [0.04992014, 0.11819211],\n",
       "       [0.89215621, 0.89561872],\n",
       "       [0.50762066, 0.78452255],\n",
       "       [0.7973108 , 0.62115955],\n",
       "       [0.61652653, 0.69030154],\n",
       "       [0.59298077, 0.62125296],\n",
       "       [0.39318467, 0.88172156],\n",
       "       [0.77077831, 0.17464304],\n",
       "       [0.13978594, 0.46470654],\n",
       "       [0.04777409, 0.72212982],\n",
       "       [0.22010195, 0.28226795],\n",
       "       [0.25644339, 0.83161729],\n",
       "       [0.18134504, 0.59846938],\n",
       "       [0.84202315, 0.42171823],\n",
       "       [0.00563229, 0.28680916],\n",
       "       [0.51902222, 0.07210418],\n",
       "       [0.00348152, 0.68831008],\n",
       "       [0.0169795 , 0.40882669],\n",
       "       [0.32798142, 0.96942505],\n",
       "       [0.52173299, 0.68763905],\n",
       "       [0.19257281, 0.81768072],\n",
       "       [0.56046966, 0.95995784],\n",
       "       [0.87974323, 0.88609152],\n",
       "       [0.54043385, 0.29173601],\n",
       "       [0.68997902, 0.89604273],\n",
       "       [0.0705336 , 0.25126518],\n",
       "       [0.22295413, 0.58227741],\n",
       "       [0.11739743, 0.47487705],\n",
       "       [0.486324  , 0.48799549],\n",
       "       [0.42276743, 0.17851611],\n",
       "       [0.92164902, 0.74990014],\n",
       "       [0.02078852, 0.22841079],\n",
       "       [0.76959246, 0.30976756],\n",
       "       [0.1064074 , 0.12236572],\n",
       "       [0.27319513, 0.32230919],\n",
       "       [0.15037316, 0.28188507],\n",
       "       [0.68226864, 0.60578962],\n",
       "       [0.05910962, 0.44472533],\n",
       "       [0.73045036, 0.55583601],\n",
       "       [0.68548159, 0.80847886],\n",
       "       [0.52559392, 0.04851663],\n",
       "       [0.88894108, 0.72914385],\n",
       "       [0.45433922, 0.33474052],\n",
       "       [0.6649732 , 0.32029274],\n",
       "       [0.3358328 , 0.35719472],\n",
       "       [0.31677582, 0.59124734],\n",
       "       [0.76960573, 0.53741023],\n",
       "       [0.94967667, 0.83484965],\n",
       "       [0.27042124, 0.5441467 ],\n",
       "       [0.77876872, 0.8296621 ],\n",
       "       [0.24961455, 0.75268075],\n",
       "       [0.08989451, 0.92869034],\n",
       "       [0.40401332, 0.59128258],\n",
       "       [0.57597036, 0.61050137],\n",
       "       [0.93005285, 0.25968085],\n",
       "       [0.0412879 , 0.0835482 ],\n",
       "       [0.8574566 , 0.04916014],\n",
       "       [0.08734364, 0.37193806],\n",
       "       [0.1348782 , 0.85227988],\n",
       "       [0.26446594, 0.16433365],\n",
       "       [0.17636304, 0.49861129],\n",
       "       [0.31204746, 0.56080258],\n",
       "       [0.8055365 , 0.43113055],\n",
       "       [0.0190137 , 0.30789627],\n",
       "       [0.83200754, 0.34985956],\n",
       "       [0.11893539, 0.06916142],\n",
       "       [0.83349473, 0.31018657],\n",
       "       [0.7954454 , 0.10954417],\n",
       "       [0.72580143, 0.92866706],\n",
       "       [0.23133437, 0.01307873],\n",
       "       [0.88566276, 0.98365915],\n",
       "       [0.50295877, 0.42418412],\n",
       "       [0.43073375, 0.67378634],\n",
       "       [0.61983383, 0.01108212],\n",
       "       [0.76622331, 0.56232142],\n",
       "       [0.41776093, 0.42168643],\n",
       "       [0.68947687, 0.47270237],\n",
       "       [0.369234  , 0.40671141],\n",
       "       [0.62393864, 0.55122937],\n",
       "       [0.68565594, 0.00533343],\n",
       "       [0.0589097 , 0.68000919],\n",
       "       [0.81372715, 0.19866002],\n",
       "       [0.20457124, 0.54284515],\n",
       "       [0.19062146, 0.55934142],\n",
       "       [0.55328409, 0.75756745],\n",
       "       [0.45466574, 0.85569969],\n",
       "       [0.15586392, 0.28573066],\n",
       "       [0.57082377, 0.11437721],\n",
       "       [0.28488219, 0.9758113 ],\n",
       "       [0.17109766, 0.39523333],\n",
       "       [0.02339791, 0.70053754],\n",
       "       [0.19211216, 0.13074268],\n",
       "       [0.80304789, 0.79651023],\n",
       "       [0.71448836, 0.16194349],\n",
       "       [0.52343935, 0.9996921 ],\n",
       "       [0.83998781, 0.55057824],\n",
       "       [0.36381764, 0.53790555],\n",
       "       [0.92242054, 0.74821221],\n",
       "       [0.35470245, 0.66759157]])"
      ]
     },
     "execution_count": 7,
     "metadata": {},
     "output_type": "execute_result"
    }
   ],
   "source": [
    "np.random.rand(100,2)"
   ]
  },
  {
   "cell_type": "code",
   "execution_count": 3,
   "metadata": {},
   "outputs": [
    {
     "data": {
      "text/plain": [
       "array([[-1.60408968, -0.25440569],\n",
       "       [-1.25784217, -1.18015238],\n",
       "       [-1.02038124, -0.09312799],\n",
       "       [-0.81957595, -0.32664681],\n",
       "       [-0.27735729, -1.52947902],\n",
       "       [-0.58346364, -0.26566338],\n",
       "       [-0.39007471, -0.28936655],\n",
       "       [-1.00887782, -0.13089186],\n",
       "       [-0.76097221, -0.77350124],\n",
       "       [-1.30757922, -1.76196978]])"
      ]
     },
     "execution_count": 3,
     "metadata": {},
     "output_type": "execute_result"
    }
   ],
   "source": [
    "#Create an array of the given shape and \n",
    "#populate it with random samples from a uniform distribution over [0, 1).\n",
    "\n",
    "X= -2 * np.random.rand(100,2)\n",
    "X[:10]"
   ]
  },
  {
   "cell_type": "code",
   "execution_count": 4,
   "metadata": {},
   "outputs": [
    {
     "data": {
      "text/plain": [
       "array([[1.33888174, 2.49880928],\n",
       "       [1.29257953, 1.23160923],\n",
       "       [2.06526944, 2.91885106],\n",
       "       [1.56148436, 2.20596859],\n",
       "       [1.8429817 , 1.87185424],\n",
       "       [2.34028154, 2.65658235],\n",
       "       [1.42313589, 2.15338903],\n",
       "       [2.6992486 , 2.35805439],\n",
       "       [2.82499123, 2.63121478],\n",
       "       [2.08506349, 2.16660079]])"
      ]
     },
     "execution_count": 4,
     "metadata": {},
     "output_type": "execute_result"
    }
   ],
   "source": [
    "\n",
    "X1 = 1 + 2 * np.random.rand(50,2)\n",
    "X1[:10]"
   ]
  },
  {
   "cell_type": "code",
   "execution_count": 5,
   "metadata": {},
   "outputs": [],
   "source": [
    "X[50:100, :] = X1 #copying the values of X1 in to 2nd half of X"
   ]
  },
  {
   "cell_type": "code",
   "execution_count": 6,
   "metadata": {},
   "outputs": [
    {
     "data": {
      "text/plain": [
       "array([[-1.60408968, -0.25440569],\n",
       "       [-1.25784217, -1.18015238],\n",
       "       [-1.02038124, -0.09312799],\n",
       "       [-0.81957595, -0.32664681],\n",
       "       [-0.27735729, -1.52947902],\n",
       "       [-0.58346364, -0.26566338],\n",
       "       [-0.39007471, -0.28936655],\n",
       "       [-1.00887782, -0.13089186],\n",
       "       [-0.76097221, -0.77350124],\n",
       "       [-1.30757922, -1.76196978],\n",
       "       [-0.18198303, -1.84176899],\n",
       "       [-0.73934783, -1.76516598],\n",
       "       [-1.44527558, -1.52519467],\n",
       "       [-0.44896926, -1.21885246],\n",
       "       [-1.45361954, -1.43965681],\n",
       "       [-0.45199932, -1.31923102],\n",
       "       [-0.60008322, -1.13492392],\n",
       "       [-1.90871651, -1.99561548],\n",
       "       [-0.83387185, -0.29597641],\n",
       "       [-0.61933446, -0.85068076],\n",
       "       [-0.8689359 , -1.21435669],\n",
       "       [-0.30587536, -0.77920658],\n",
       "       [-0.02378901, -1.55666007],\n",
       "       [-0.87856059, -1.20878164],\n",
       "       [-0.18249291, -0.90772766],\n",
       "       [-1.03694758, -0.68054846],\n",
       "       [-0.38650675, -1.12274537],\n",
       "       [-0.1932932 , -1.2110663 ],\n",
       "       [-0.5055326 , -0.19640187],\n",
       "       [-1.71333611, -1.45105795],\n",
       "       [-0.9499543 , -1.06380608],\n",
       "       [-1.82555135, -1.32151415],\n",
       "       [-1.64768365, -1.06620212],\n",
       "       [-1.37688072, -0.40328673],\n",
       "       [-1.58470471, -1.07505953],\n",
       "       [-1.93472734, -0.01723013],\n",
       "       [-1.02580884, -0.34608569],\n",
       "       [-0.87801167, -0.68981987],\n",
       "       [-1.44238587, -0.8305386 ],\n",
       "       [-1.03031468, -0.65021935],\n",
       "       [-1.07302414, -1.18623823],\n",
       "       [-0.56146464, -1.72649109],\n",
       "       [-1.44474493, -0.41530587],\n",
       "       [-0.21937466, -1.94948801],\n",
       "       [-1.84531206, -1.80954281],\n",
       "       [-0.44621848, -0.52878837],\n",
       "       [-0.11869116, -0.48104039],\n",
       "       [-1.46813352, -1.69802986],\n",
       "       [-0.04114104, -0.43433386],\n",
       "       [-1.30086089, -0.0471911 ]])"
      ]
     },
     "execution_count": 6,
     "metadata": {},
     "output_type": "execute_result"
    }
   ],
   "source": [
    "X[:50]"
   ]
  },
  {
   "cell_type": "code",
   "execution_count": 7,
   "metadata": {},
   "outputs": [
    {
     "data": {
      "image/png": "[encoded data removed]",
      "text/plain": [
       "<Figure size 432x288 with 1 Axes>"
      ]
     },
     "metadata": {
      "needs_background": "light"
     },
     "output_type": "display_data"
    }
   ],
   "source": [
    "\n",
    "plt.scatter(X[ : , 0], X[ :, 1], s = 50, color = 'red')\n",
    "plt.show()"
   ]
  },
  {
   "cell_type": "code",
   "execution_count": 8,
   "metadata": {},
   "outputs": [
    {
     "data": {
      "text/plain": [
       "KMeans(algorithm='auto', copy_x=True, init='k-means++', max_iter=300,\n",
       "    n_clusters=2, n_init=10, n_jobs=None, precompute_distances='auto',\n",
       "    random_state=None, tol=0.0001, verbose=0)"
      ]
     },
     "execution_count": 8,
     "metadata": {},
     "output_type": "execute_result"
    }
   ],
   "source": [
    "Kmean = KMeans(n_clusters=2)\n",
    "\n",
    "Kmean.fit(X)"
   ]
  },
  {
   "cell_type": "code",
   "execution_count": 9,
   "metadata": {},
   "outputs": [
    {
     "data": {
      "text/plain": [
       "array([[ 2.01221651,  2.04980239],\n",
       "       [-0.92047346, -0.96122071]])"
      ]
     },
     "execution_count": 9,
     "metadata": {},
     "output_type": "execute_result"
    }
   ],
   "source": [
    "Kmean.cluster_centers_"
   ]
  },
  {
   "cell_type": "code",
   "execution_count": 10,
   "metadata": {},
   "outputs": [
    {
     "data": {
      "image/png": "[encoded data removed]",
      "text/plain": [
       "<Figure size 432x288 with 1 Axes>"
      ]
     },
     "metadata": {
      "needs_background": "light"
     },
     "output_type": "display_data"
    }
   ],
   "source": [
    "plt.scatter(X[ : , 0], X[ : , 1], s =50)\n",
    "plt.scatter(Kmean.cluster_centers_[0][0], Kmean.cluster_centers_[0][1], s=200, color='green')\n",
    "plt.scatter(Kmean.cluster_centers_[1][0], Kmean.cluster_centers_[1][1], s=200, color='blue')\n",
    "#plt.scatter(Kmean.cluster_centers_[2][0], Kmean.cluster_centers_[2][1], s=200, color='BLUE')\n",
    "#plt.scatter(Kmean.cluster_centers_[3][0], Kmean.cluster_centers_[3][1], s=200, color='BROWN')\n",
    "plt.show()"
   ]
  },
  {
   "cell_type": "code",
   "execution_count": 11,
   "metadata": {},
   "outputs": [
    {
     "data": {
      "text/plain": [
       "array([1, 1, 1, 1, 1, 1, 1, 1, 1, 1, 1, 1, 1, 1, 1, 1, 1, 1, 1, 1, 1, 1,\n",
       "       1, 1, 1, 1, 1, 1, 1, 1, 1, 1, 1, 1, 1, 1, 1, 1, 1, 1, 1, 1, 1, 1,\n",
       "       1, 1, 1, 1, 1, 1, 0, 0, 0, 0, 0, 0, 0, 0, 0, 0, 0, 0, 0, 0, 0, 0,\n",
       "       0, 0, 0, 0, 0, 0, 0, 0, 0, 0, 0, 0, 0, 0, 0, 0, 0, 0, 0, 0, 0, 0,\n",
       "       0, 0, 0, 0, 0, 0, 0, 0, 0, 0, 0, 0], dtype=int32)"
      ]
     },
     "execution_count": 11,
     "metadata": {},
     "output_type": "execute_result"
    }
   ],
   "source": [
    "Kmean.labels_"
   ]
  },
  {
   "cell_type": "code",
   "execution_count": 12,
   "metadata": {},
   "outputs": [
    {
     "data": {
      "text/plain": [
       "array([1], dtype=int32)"
      ]
     },
     "execution_count": 12,
     "metadata": {},
     "output_type": "execute_result"
    }
   ],
   "source": [
    "Kmean.predict([[-1,-2]])"
   ]
  },
  {
   "cell_type": "code",
   "execution_count": 13,
   "metadata": {},
   "outputs": [
    {
     "data": {
      "text/plain": [
       "64.3087564920287"
      ]
     },
     "execution_count": 13,
     "metadata": {},
     "output_type": "execute_result"
    }
   ],
   "source": [
    "#Inertia can be recognized as a measure of how internally coherent clusters are\n",
    "\n",
    "Kmean.inertia_"
   ]
  },
  {
   "cell_type": "markdown",
   "metadata": {},
   "source": [
    "#### With this example it was obvious to say that the K value will be equal to 2\n",
    "\n",
    "#### But other times it's not just as clear as it seems One way is to just all diff values for K"
   ]
  },
  {
   "cell_type": "code",
   "execution_count": 14,
   "metadata": {},
   "outputs": [
    {
     "data": {
      "image/png": "[encoded data removed]",
      "text/plain": [
       "<Figure size 432x288 with 1 Axes>"
      ]
     },
     "metadata": {
      "needs_background": "light"
     },
     "output_type": "display_data"
    }
   ],
   "source": [
    "X= -2 * np.random.rand(100,2)\n",
    "plt.scatter(X[ : , 0], X[ :, 1], s = 50)\n",
    "plt.show()"
   ]
  },
  {
   "cell_type": "code",
   "execution_count": 15,
   "metadata": {},
   "outputs": [
    {
     "name": "stdout",
     "output_type": "stream",
     "text": [
      "Initialization complete\n",
      "start iteration\n",
      "done sorting\n",
      "end inner loop\n",
      "Iteration 0, inertia 23.474629857762118\n",
      "start iteration\n",
      "done sorting\n",
      "end inner loop\n",
      "Iteration 1, inertia 20.351777866054015\n",
      "start iteration\n",
      "done sorting\n",
      "end inner loop\n",
      "Iteration 2, inertia 19.368609956962665\n",
      "start iteration\n",
      "done sorting\n",
      "end inner loop\n",
      "Iteration 3, inertia 17.68203778842696\n",
      "start iteration\n",
      "done sorting\n",
      "end inner loop\n",
      "Iteration 4, inertia 17.437493274629137\n",
      "start iteration\n",
      "done sorting\n",
      "end inner loop\n",
      "Iteration 5, inertia 17.287522983259176\n",
      "start iteration\n",
      "done sorting\n",
      "end inner loop\n",
      "Iteration 6, inertia 17.21486724181556\n",
      "start iteration\n",
      "done sorting\n",
      "end inner loop\n",
      "Iteration 7, inertia 17.21486724181556\n",
      "center shift 0.000000e+00 within tolerance 3.429014e-05\n",
      "Initialization complete\n",
      "start iteration\n",
      "done sorting\n",
      "end inner loop\n",
      "Iteration 0, inertia 17.89261604377377\n",
      "start iteration\n",
      "done sorting\n",
      "end inner loop\n",
      "Iteration 1, inertia 16.98837751423172\n",
      "start iteration\n",
      "done sorting\n",
      "end inner loop\n",
      "Iteration 2, inertia 16.95901243352246\n",
      "start iteration\n",
      "done sorting\n",
      "end inner loop\n",
      "Iteration 3, inertia 16.9283281612081\n",
      "start iteration\n",
      "done sorting\n",
      "end inner loop\n",
      "Iteration 4, inertia 16.9283281612081\n",
      "center shift 0.000000e+00 within tolerance 3.429014e-05\n",
      "Initialization complete\n",
      "start iteration\n",
      "done sorting\n",
      "end inner loop\n",
      "Iteration 0, inertia 20.12177416003871\n",
      "start iteration\n",
      "done sorting\n",
      "end inner loop\n",
      "Iteration 1, inertia 18.315144251407055\n",
      "start iteration\n",
      "done sorting\n",
      "end inner loop\n",
      "Iteration 2, inertia 17.82820303464721\n",
      "start iteration\n",
      "done sorting\n",
      "end inner loop\n",
      "Iteration 3, inertia 17.618825237404458\n",
      "start iteration\n",
      "done sorting\n",
      "end inner loop\n",
      "Iteration 4, inertia 17.266464966447487\n",
      "start iteration\n",
      "done sorting\n",
      "end inner loop\n",
      "Iteration 5, inertia 17.117533476281757\n",
      "start iteration\n",
      "done sorting\n",
      "end inner loop\n",
      "Iteration 6, inertia 16.971830009647952\n",
      "start iteration\n",
      "done sorting\n",
      "end inner loop\n",
      "Iteration 7, inertia 16.94373797164868\n",
      "start iteration\n",
      "done sorting\n",
      "end inner loop\n",
      "Iteration 8, inertia 16.90975637581456\n",
      "start iteration\n",
      "done sorting\n",
      "end inner loop\n",
      "Iteration 9, inertia 16.888887658866658\n",
      "start iteration\n",
      "done sorting\n",
      "end inner loop\n",
      "Iteration 10, inertia 16.857861626976536\n",
      "start iteration\n",
      "done sorting\n",
      "end inner loop\n",
      "Iteration 11, inertia 16.857861626976536\n",
      "center shift 0.000000e+00 within tolerance 3.429014e-05\n",
      "Initialization complete\n",
      "start iteration\n",
      "done sorting\n",
      "end inner loop\n",
      "Iteration 0, inertia 20.280713556467035\n",
      "start iteration\n",
      "done sorting\n",
      "end inner loop\n",
      "Iteration 1, inertia 17.260090602069127\n",
      "start iteration\n",
      "done sorting\n",
      "end inner loop\n",
      "Iteration 2, inertia 16.84971019325092\n",
      "start iteration\n",
      "done sorting\n",
      "end inner loop\n",
      "Iteration 3, inertia 16.84971019325092\n",
      "center shift 0.000000e+00 within tolerance 3.429014e-05\n",
      "Initialization complete\n",
      "start iteration\n",
      "done sorting\n",
      "end inner loop\n",
      "Iteration 0, inertia 23.878482646630985\n",
      "start iteration\n",
      "done sorting\n",
      "end inner loop\n",
      "Iteration 1, inertia 23.5969397329297\n",
      "start iteration\n",
      "done sorting\n",
      "end inner loop\n",
      "Iteration 2, inertia 23.35956731124198\n",
      "start iteration\n",
      "done sorting\n",
      "end inner loop\n",
      "Iteration 3, inertia 23.090639953660556\n",
      "start iteration\n",
      "done sorting\n",
      "end inner loop\n",
      "Iteration 4, inertia 23.090639953660556\n",
      "center shift 0.000000e+00 within tolerance 3.429014e-05\n",
      "Initialization complete\n",
      "start iteration\n",
      "done sorting\n",
      "end inner loop\n",
      "Iteration 0, inertia 22.471285413116973\n",
      "start iteration\n",
      "done sorting\n",
      "end inner loop\n",
      "Iteration 1, inertia 18.53169903410541\n",
      "start iteration\n",
      "done sorting\n",
      "end inner loop\n",
      "Iteration 2, inertia 17.703611821716223\n",
      "start iteration\n",
      "done sorting\n",
      "end inner loop\n",
      "Iteration 3, inertia 17.2724915931446\n",
      "start iteration\n",
      "done sorting\n",
      "end inner loop\n",
      "Iteration 4, inertia 17.192418180110742\n",
      "start iteration\n",
      "done sorting\n",
      "end inner loop\n",
      "Iteration 5, inertia 17.122321314820024\n",
      "start iteration\n",
      "done sorting\n",
      "end inner loop\n",
      "Iteration 6, inertia 17.083603496385365\n",
      "start iteration\n",
      "done sorting\n",
      "end inner loop\n",
      "Iteration 7, inertia 17.037572699006596\n",
      "start iteration\n",
      "done sorting\n",
      "end inner loop\n",
      "Iteration 8, inertia 16.99977438325067\n",
      "start iteration\n",
      "done sorting\n",
      "end inner loop\n",
      "Iteration 9, inertia 16.99977438325067\n",
      "center shift 0.000000e+00 within tolerance 3.429014e-05\n",
      "Initialization complete\n",
      "start iteration\n",
      "done sorting\n",
      "end inner loop\n",
      "Iteration 0, inertia 22.396221960095133\n",
      "start iteration\n",
      "done sorting\n",
      "end inner loop\n",
      "Iteration 1, inertia 19.59488128461107\n",
      "start iteration\n",
      "done sorting\n",
      "end inner loop\n",
      "Iteration 2, inertia 17.896772812138266\n",
      "start iteration\n",
      "done sorting\n",
      "end inner loop\n",
      "Iteration 3, inertia 17.494663096518142\n",
      "start iteration\n",
      "done sorting\n",
      "end inner loop\n",
      "Iteration 4, inertia 17.287522983259176\n",
      "start iteration\n",
      "done sorting\n",
      "end inner loop\n",
      "Iteration 5, inertia 17.21486724181556\n",
      "start iteration\n",
      "done sorting\n",
      "end inner loop\n",
      "Iteration 6, inertia 17.21486724181556\n",
      "center shift 0.000000e+00 within tolerance 3.429014e-05\n",
      "Initialization complete\n",
      "start iteration\n",
      "done sorting\n",
      "end inner loop\n",
      "Iteration 0, inertia 18.981819527346925\n",
      "start iteration\n",
      "done sorting\n",
      "end inner loop\n",
      "Iteration 1, inertia 17.70761025953411\n",
      "start iteration\n",
      "done sorting\n",
      "end inner loop\n",
      "Iteration 2, inertia 17.151823978331308\n",
      "start iteration\n",
      "done sorting\n",
      "end inner loop\n",
      "Iteration 3, inertia 16.985323174638665\n",
      "start iteration\n",
      "done sorting\n",
      "end inner loop\n",
      "Iteration 4, inertia 16.985323174638665\n",
      "center shift 0.000000e+00 within tolerance 3.429014e-05\n",
      "Initialization complete\n",
      "start iteration\n",
      "done sorting\n",
      "end inner loop\n",
      "Iteration 0, inertia 20.960713095120624\n",
      "start iteration\n",
      "done sorting\n",
      "end inner loop\n",
      "Iteration 1, inertia 20.1028343552316\n",
      "start iteration\n",
      "done sorting\n",
      "end inner loop\n",
      "Iteration 2, inertia 18.711330567405554\n",
      "start iteration\n",
      "done sorting\n",
      "end inner loop\n",
      "Iteration 3, inertia 18.361315635056496\n",
      "start iteration\n",
      "done sorting\n",
      "end inner loop\n",
      "Iteration 4, inertia 17.63863998896314\n",
      "start iteration\n",
      "done sorting\n",
      "end inner loop\n",
      "Iteration 5, inertia 17.38602694265752\n",
      "start iteration\n",
      "done sorting\n",
      "end inner loop\n",
      "Iteration 6, inertia 17.16346657227053\n",
      "start iteration\n",
      "done sorting\n",
      "end inner loop\n",
      "Iteration 7, inertia 16.985323174638665\n",
      "start iteration\n",
      "done sorting\n",
      "end inner loop\n",
      "Iteration 8, inertia 16.985323174638665\n",
      "center shift 0.000000e+00 within tolerance 3.429014e-05\n",
      "Initialization complete\n",
      "start iteration\n",
      "done sorting\n",
      "end inner loop\n",
      "Iteration 0, inertia 21.76850323260055\n",
      "start iteration\n",
      "done sorting\n",
      "end inner loop\n",
      "Iteration 1, inertia 17.876598763507467\n",
      "start iteration\n",
      "done sorting\n",
      "end inner loop\n",
      "Iteration 2, inertia 17.33757232280732\n",
      "start iteration\n",
      "done sorting\n",
      "end inner loop\n",
      "Iteration 3, inertia 17.21486724181556\n",
      "start iteration\n",
      "done sorting\n",
      "end inner loop\n",
      "Iteration 4, inertia 17.21486724181556\n",
      "center shift 0.000000e+00 within tolerance 3.429014e-05\n"
     ]
    },
    {
     "data": {
      "text/plain": [
       "KMeans(algorithm='auto', copy_x=True, init='k-means++', max_iter=300,\n",
       "    n_clusters=4, n_init=10, n_jobs=None, precompute_distances='auto',\n",
       "    random_state=None, tol=0.0001, verbose=1)"
      ]
     },
     "execution_count": 15,
     "metadata": {},
     "output_type": "execute_result"
    }
   ],
   "source": [
    "Kmean = KMeans(n_clusters=4,verbose=1)\n",
    "Kmean.fit(X)"
   ]
  },
  {
   "cell_type": "code",
   "execution_count": 16,
   "metadata": {},
   "outputs": [],
   "source": [
    "labels = Kmean.labels_"
   ]
  },
  {
   "cell_type": "code",
   "execution_count": 17,
   "metadata": {},
   "outputs": [
    {
     "data": {
      "text/plain": [
       "array([0, 1, 0, 0, 0, 1, 0, 0, 3, 2, 1, 3, 3, 1, 0, 3, 3, 2, 0, 1, 1, 0,\n",
       "       1, 2, 2, 3, 2, 2, 0, 1, 1, 1, 0, 0, 3, 3, 0, 0, 0, 2, 2, 0, 1, 2,\n",
       "       1, 0, 1, 0, 1, 1, 2, 3, 3, 2, 3, 0, 3, 0, 2, 1, 0, 3, 1, 2, 0, 2,\n",
       "       1, 3, 0, 2, 0, 0, 1, 0, 3, 2, 0, 1, 3, 2, 1, 3, 2, 0, 2, 0, 0, 0,\n",
       "       0, 3, 1, 2, 1, 3, 3, 3, 3, 3, 0, 0], dtype=int32)"
      ]
     },
     "execution_count": 17,
     "metadata": {},
     "output_type": "execute_result"
    }
   ],
   "source": [
    "labels"
   ]
  },
  {
   "cell_type": "code",
   "execution_count": 18,
   "metadata": {},
   "outputs": [
    {
     "data": {
      "text/plain": [
       "array([[-1.47673294, -1.46592045],\n",
       "       [-0.49500896, -0.42242469],\n",
       "       [-1.55661329, -0.513273  ],\n",
       "       [-0.45456276, -1.49260235]])"
      ]
     },
     "execution_count": 18,
     "metadata": {},
     "output_type": "execute_result"
    }
   ],
   "source": [
    "\n",
    "Kmean.cluster_centers_"
   ]
  },
  {
   "cell_type": "code",
   "execution_count": 19,
   "metadata": {},
   "outputs": [
    {
     "data": {
      "image/png": "[encoded data removed]",
      "text/plain": [
       "<Figure size 432x288 with 1 Axes>"
      ]
     },
     "metadata": {
      "needs_background": "light"
     },
     "output_type": "display_data"
    }
   ],
   "source": [
    "plt.scatter(X[ : , 0], X[ : , 1], s =50, c=labels)\n",
    "plt.scatter(Kmean.cluster_centers_[0][0], Kmean.cluster_centers_[0][1], s=200, color='green')\n",
    "plt.scatter(Kmean.cluster_centers_[1][0], Kmean.cluster_centers_[1][1], s=200, color='red')\n",
    "plt.scatter(Kmean.cluster_centers_[2][0], Kmean.cluster_centers_[2][1], s=200, color='BLUE')\n",
    "plt.scatter(Kmean.cluster_centers_[3][0], Kmean.cluster_centers_[3][1], s=200, color='BROWN')\n",
    "plt.show()"
   ]
  },
  {
   "cell_type": "code",
   "execution_count": 20,
   "metadata": {},
   "outputs": [
    {
     "data": {
      "text/plain": [
       "16.84971019325092"
      ]
     },
     "execution_count": 20,
     "metadata": {},
     "output_type": "execute_result"
    }
   ],
   "source": [
    "Kmean.inertia_"
   ]
  },
  {
   "cell_type": "code",
   "execution_count": null,
   "metadata": {},
   "outputs": [],
   "source": []
  },
  {
   "cell_type": "code",
   "execution_count": 21,
   "metadata": {},
   "outputs": [
    {
     "data": {
      "text/plain": [
       "KMeans(algorithm='auto', copy_x=True, init='k-means++', max_iter=300,\n",
       "    n_clusters=2, n_init=10, n_jobs=None, precompute_distances='auto',\n",
       "    random_state=None, tol=0.0001, verbose=0)"
      ]
     },
     "execution_count": 21,
     "metadata": {},
     "output_type": "execute_result"
    }
   ],
   "source": [
    "Kmean = KMeans(n_clusters=2)\n",
    "Kmean.fit(X)"
   ]
  },
  {
   "cell_type": "code",
   "execution_count": 22,
   "metadata": {},
   "outputs": [
    {
     "data": {
      "text/plain": [
       "array([[-0.43178954, -0.83407636],\n",
       "       [-1.44877905, -1.18568215]])"
      ]
     },
     "execution_count": 22,
     "metadata": {},
     "output_type": "execute_result"
    }
   ],
   "source": [
    "\n",
    "labels = Kmean.labels_\n",
    "Kmean.cluster_centers_"
   ]
  },
  {
   "cell_type": "code",
   "execution_count": 23,
   "metadata": {},
   "outputs": [
    {
     "data": {
      "image/png": "[encoded data removed]",
      "text/plain": [
       "<Figure size 432x288 with 1 Axes>"
      ]
     },
     "metadata": {
      "needs_background": "light"
     },
     "output_type": "display_data"
    }
   ],
   "source": [
    "plt.scatter(X[ : , 0], X[ : , 1], s =50, c=labels)\n",
    "plt.scatter(Kmean.cluster_centers_[0][0], Kmean.cluster_centers_[0][1], s=200, color='green')\n",
    "plt.scatter(Kmean.cluster_centers_[1][0], Kmean.cluster_centers_[1][1], s=200, color='red')\n",
    "\n",
    "plt.show()"
   ]
  },
  {
   "cell_type": "code",
   "execution_count": 24,
   "metadata": {},
   "outputs": [
    {
     "data": {
      "text/plain": [
       "40.57082098886269"
      ]
     },
     "execution_count": 24,
     "metadata": {},
     "output_type": "execute_result"
    }
   ],
   "source": [
    "Kmean.inertia_"
   ]
  },
  {
   "cell_type": "code",
   "execution_count": null,
   "metadata": {},
   "outputs": [],
   "source": []
  }
 ],
 "metadata": {
  "kernelspec": {
   "display_name": "Python 3",
   "language": "python",
   "name": "python3"
  },
  "language_info": {
   "codemirror_mode": {
    "name": "ipython",
    "version": 3
   },
   "file_extension": ".py",
   "mimetype": "text/x-python",
   "name": "python",
   "nbconvert_exporter": "python",
   "pygments_lexer": "ipython3",
   "version": "3.7.3"
  }
 },
 "nbformat": 4,
 "nbformat_minor": 2
}
